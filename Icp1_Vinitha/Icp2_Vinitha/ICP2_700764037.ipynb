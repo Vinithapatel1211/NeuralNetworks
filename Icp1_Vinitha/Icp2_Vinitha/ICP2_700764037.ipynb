{
  "cells": [
    {
      "cell_type": "markdown",
      "metadata": {
        "id": "CDu4wJAsHNfy"
      },
      "source": [
        "1.Python program that takes two strings from the user: first_name, last_name. Pass these variables to fullname function that should return the (full name).\n"
      ]
    },
    {
      "cell_type": "code",
      "execution_count": 1,
      "metadata": {
        "colab": {
          "base_uri": "https://localhost:8080/"
        },
        "id": "IcvjbWSthJYU",
        "outputId": "d2c1147b-4f2a-4952-d72e-a9f308708760"
      },
      "outputs": [
        {
          "name": "stdout",
          "output_type": "stream",
          "text": [
            "Enter your first name: Vinitha\n",
            "Enter your last name: Patel\n",
            "Vinitha Patel\n",
            "Enter the string: Good evening\n",
            "Go vnn\n"
          ]
        }
      ],
      "source": [
        "#Function that takes first name and last name and returns full name\n",
        "def full_name(first_name, last_name):\n",
        "\n",
        "  #Combined using string concatenation operator\n",
        "  return first_name + \" \" + last_name\n",
        "\n",
        "\n",
        "#Function that takes a string and returns string with alternative characters\n",
        "def string_alternative(original_string):\n",
        "\n",
        "  #Alternate characters are taken using slicing operator with step 2\n",
        "  return original_string[::2]\n",
        "\n",
        "\n",
        "\n",
        "First_name = input(\"Enter your first name: \") #Taking first name input\n",
        "Last_name = input(\"Enter your last name: \") #Taking last name input\n",
        "print(full_name(First_name, Last_name)) #Calling funtion and printing full name\n",
        "\n",
        "\n",
        "Original_string = input(\"Enter the string: \") #Inputting a string from the user\n",
        "print(string_alternative(Original_string)) #Printing alternate characters in the string"
      ]
    },
    {
      "cell_type": "markdown",
      "metadata": {
        "id": "p2jKtTYTNCdc"
      },
      "source": [
        "2. Python program to find the wordcount in a file (input.txt) for each line and then print the output. Finally store the output in (output.txt) file.\n"
      ]
    },
    {
      "cell_type": "code",
      "execution_count": null,
      "metadata": {
        "id": "3j8jCG7zmhTh"
      },
      "outputs": [],
      "source": [
        "#Opening input.txt file and reading the contents using a variable\n",
        "with open('input.txt','r') as reader:\n",
        "  contents = []\n",
        "\n",
        "  #Getting each line in the file and splitting them into words and adding them to the list\n",
        "  for line in reader.readlines():\n",
        "    contents += list(map(str.strip, line.split(\" \")))\n",
        "\n",
        "\n",
        "#Defining empty dictionary to store the word count\n",
        "word_count = {}\n",
        "for i in contents:\n",
        "\n",
        "  #Checking if the word already exists in the dictionary\n",
        "  #If it is present, then it's count is incremented\n",
        "  if i in word_count.keys():\n",
        "    word_count[i] += 1\n",
        "\n",
        "  #Else new key is created and it's value is set to 1 indiacting it's first occurance in the file\n",
        "  else:\n",
        "    word_count[i] = 1\n",
        "\n",
        "#New file is created and writing the contents in the dictionary to this file\n",
        "with open('output.txt', 'w') as writer:\n",
        "\n",
        "    #Accessing each word and it's value and writing it in the file\n",
        "    for word, value in word_count.items():\n",
        "        writer.write(word + \": \" + str(value) + \"\\n\")\n",
        "\n",
        "    #Closing this file automatically downloads it to the system\n",
        "    writer.close()"
      ]
    },
    {
      "cell_type": "markdown",
      "metadata": {
        "id": "ta05SG_ocf4I"
      },
      "source": [
        "3. Python program which reads heights (inches.) of customers into a list and\n",
        "convert these heights to centimeters in a separate list using:\n",
        "\n",
        " 1) Nested Interactive loop.\n",
        " 2) List comprehensions"
      ]
    },
    {
      "cell_type": "code",
      "execution_count": null,
      "metadata": {
        "colab": {
          "base_uri": "https://localhost:8080/"
        },
        "id": "zTvsCcvZnPbC",
        "outputId": "1207929f-e106-44ad-9f18-24d4542d09a5"
      },
      "outputs": [
        {
          "name": "stdout",
          "output_type": "stream",
          "text": [
            "Enter heights in centimeters: 150 155 145 148\n",
            "Heights in inches using loop:  [381.0, 393.7, 368.3, 375.92]\n",
            "Heights in inches using list comprehension:  [381.0, 393.7, 368.3, 375.92]\n"
          ]
        }
      ],
      "source": [
        "#Inputting the heights in centimeters into the list\n",
        "heights_cm = list(map(int, input(\"Enter heights in centimeters: \").split()))\n",
        "\n",
        "#Using loop the heights in centimeters are converted into inches\n",
        "heights_in = []\n",
        "for i in heights_cm:\n",
        "  heights_in.append(2.54*i)\n",
        "\n",
        "#The converted heights are printed\n",
        "print(\"Heights in inches using loop: \", heights_in)\n",
        "\n",
        "\n",
        "#Using list comprehension, the heights in centimeters are converted into inches\n",
        "heights_inc = [2.54*inches for inches in heights_cm]\n",
        "print(\"Heights in inches using list comprehension: \", heights_inc)"
      ]
    },
    {
      "cell_type": "code",
      "execution_count": null,
      "metadata": {
        "id": "beYqVt1F1bGy"
      },
      "outputs": [],
      "source": []
    }
  ],
  "metadata": {
    "colab": {
      "provenance": []
    },
    "kernelspec": {
      "display_name": "Python 3",
      "name": "python3"
    },
    "language_info": {
      "name": "python"
    }
  },
  "nbformat": 4,
  "nbformat_minor": 0
}
