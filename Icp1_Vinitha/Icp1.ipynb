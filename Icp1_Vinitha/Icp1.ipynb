{
  "nbformat": 4,
  "nbformat_minor": 0,
  "metadata": {
    "colab": {
      "provenance": []
    },
    "kernelspec": {
      "name": "python3",
      "display_name": "Python 3"
    },
    "language_info": {
      "name": "python"
    }
  },
  "cells": [
    {
      "cell_type": "markdown",
      "source": [
        "Python program to input any string as a list of characters from console, deleting at least 2 characters, reversing the resultant string and printing it."
      ],
      "metadata": {
        "id": "-SqJ2JzED6_o"
      }
    },
    {
      "cell_type": "code",
      "execution_count": 2,
      "metadata": {
        "colab": {
          "base_uri": "https://localhost:8080/"
        },
        "id": "XFN7hZxT634c",
        "outputId": "18aaa5dc-9fe8-4ed5-bcd9-10a64c6d198a"
      },
      "outputs": [
        {
          "output_type": "stream",
          "name": "stdout",
          "text": [
            "python\n",
            "['p', 'y', 't', 'h', 'o', 'n']\n",
            "htyp\n"
          ]
        }
      ],
      "source": [
        "#Inputting the string from the user\n",
        "initial_string = list(input(\"Input the string: \"))\n",
        "\n",
        "#Printing the list of characters taken from the user\n",
        "print(initial_string)\n",
        "\n",
        "#Removing first 2 characters from the string using slicing\n",
        "final_string = initial_string[:len(initial_string)-2]\n",
        "\n",
        "#Reversing the string and printing the final output as a string\n",
        "print(\"\".join(final_string[::-1]))"
      ]
    },
    {
      "cell_type": "markdown",
      "source": [
        "Python program to input two numbers from user and perform at least 4 arithmetic operations on them."
      ],
      "metadata": {
        "id": "1W_rE38yH-3U"
      }
    },
    {
      "cell_type": "code",
      "source": [
        "#Inputting 2 numbers from the user\n",
        "num1, num2 = map(int, input(\"Input 2 numbers seperating them with a space between them: \").split())\n",
        "\n",
        "#Adding the numbers\n",
        "print(\"Addition of \" + str(num1) + \" and \" + str(num2) + \" is \"+ str(num1 + num2))\n",
        "\n",
        "#Subtracting the numbers\n",
        "print(\"Subtraction of \" + str(num1) + \" and \" + str(num2) + \" is \"+ str(num1 - num2))\n",
        "\n",
        "#Multiplying the numbers\n",
        "print(\"Multiplication of \" + str(num1) + \" and \" + str(num2) + \" is \"+ str(num1 * num2))\n",
        "\n",
        "#Dividing the numbers\n",
        "print(\"Division of \" + str(num1) + \" and \" + str(num2) + \" is \"+ str(num1 // num2))\n",
        "\n",
        "#Modulo Division of the numbers\n",
        "print(\"Modulo Division of \" + str(num1) + \" and \" + str(num2) + \" is \"+ str(num1 % num2))"
      ],
      "metadata": {
        "colab": {
          "base_uri": "https://localhost:8080/"
        },
        "id": "cG_aVue07GOJ",
        "outputId": "18f080cf-d97a-44f0-a1c6-9623fa27d099"
      },
      "execution_count": 5,
      "outputs": [
        {
          "output_type": "stream",
          "name": "stdout",
          "text": [
            "Input 2 numbers seperating them with a space between them: 4 5\n",
            "Addition of 4 and 5 is 9\n",
            "Subtraction of 4 and 5 is -1\n",
            "Multiplication of 4 and 5 is 20\n",
            "Division of 4 and 5 is 0\n",
            "Modulo Division of 4 and 5 is 4\n"
          ]
        }
      ]
    },
    {
      "cell_type": "markdown",
      "source": [
        "Python program that accepts a sentence and replace each occurrence of ‘python’ with ‘pythons’.\n"
      ],
      "metadata": {
        "id": "AkwYFq4tJyu1"
      }
    },
    {
      "cell_type": "code",
      "source": [
        "#Inputting the string from the user\n",
        "input_string = input(\"Enter the string: \")\n",
        "\n",
        "#Replacing each occurrence of the word 'python' with 'pythons' using replace method\n",
        "output_string = input_string.replace(\"python\", \"pythons\")\n",
        "\n",
        "#Printing the final output\n",
        "print(output_string)"
      ],
      "metadata": {
        "colab": {
          "base_uri": "https://localhost:8080/"
        },
        "id": "8sPRbb-18-hw",
        "outputId": "d3da813c-c0e5-4ba6-e766-6394bb419238"
      },
      "execution_count": 7,
      "outputs": [
        {
          "output_type": "stream",
          "name": "stdout",
          "text": [
            "Enter the string: i like python and python\n",
            "i like pythons and pythons\n"
          ]
        }
      ]
    },
    {
      "cell_type": "markdown",
      "source": [
        "Python program to use the if statement conditions to write a program to print the letter grade based on an input class score"
      ],
      "metadata": {
        "id": "6eNdNjUFK5xl"
      }
    },
    {
      "cell_type": "code",
      "source": [
        "#Inputting the score\n",
        "score = int(input(\"Enter your score: \"))\n",
        "\n",
        "#Using if conditions to display the grade of the user\n",
        "if score>=90 and score<=100:\n",
        "  print(\"Grade: A\")\n",
        "elif score>=80 and score<=89:\n",
        "  print(\"Grade: B\")\n",
        "elif score>=70 and score<=79:\n",
        "  print(\"Grade: C\")\n",
        "elif score>=60 and score<=69:\n",
        "  print(\"Grade: D\")\n",
        "elif score<=59:\n",
        "  print(\"Grade: F\")"
      ],
      "metadata": {
        "colab": {
          "base_uri": "https://localhost:8080/"
        },
        "id": "TQARmOpU-A__",
        "outputId": "457683be-449e-43c3-e936-bea15ccfe6ad"
      },
      "execution_count": 8,
      "outputs": [
        {
          "output_type": "stream",
          "name": "stdout",
          "text": [
            "Enter your score: 86\n",
            "Grade: B\n"
          ]
        }
      ]
    },
    {
      "cell_type": "code",
      "source": [],
      "metadata": {
        "id": "rW6TapByA5Uw"
      },
      "execution_count": null,
      "outputs": []
    }
  ]
}